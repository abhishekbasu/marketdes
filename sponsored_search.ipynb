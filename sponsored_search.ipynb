{
 "cells": [
  {
   "cell_type": "code",
   "execution_count": 1,
   "metadata": {},
   "outputs": [],
   "source": [
    "import random\n",
    "import pandas as pd\n",
    "import matplotlib.pyplot as plt\n",
    "import numpy as np\n",
    "import seaborn as sns\n",
    "sns.set_style('whitegrid')\n",
    "%matplotlib inline"
   ]
  },
  {
   "cell_type": "code",
   "execution_count": null,
   "metadata": {},
   "outputs": [],
   "source": [
    "class player:\n",
    "    def __init__(self, p_id):\n",
    "        self.p_id = p_id\n",
    "        self.bid = random.choice(np.arange(0, self.valuation+0.01, 0.01))\n",
    "        self.ad = None\n",
    "    def set_a(self, ad_id):\n",
    "        self.ad = ad_id\n",
    "    def rem_a():\n",
    "        self.ad = None\n",
    "    def __str__(self):\n",
    "        return str(self.p_id)+\"|\"+str(self.bid)+\"|\"+str(self.ad_id)"
   ]
  },
  {
   "cell_type": "code",
   "execution_count": 3,
   "metadata": {},
   "outputs": [],
   "source": [
    "class ad:\n",
    "    def __init__(self, ad_id, ctr):\n",
    "        self.ad_id = ad_id\n",
    "        self.ctr = ctr\n",
    "        self.player = None\n",
    "    def set_p(self, p_id):\n",
    "        self.player = p_id\n",
    "    def rem_p(self):\n",
    "        self.player = None\n",
    "    def __str__(self):\n",
    "        return str(self.ad_id)+\"|\"+str(self.ctr)+\"|\"+str(self.p_id)"
   ]
  },
  {
   "cell_type": "code",
   "execution_count": null,
   "metadata": {},
   "outputs": [],
   "source": [
    "class real_estate:\n",
    "    def __init__(self, r_id, num_slots = 100, lower = 0.005, upper = 0.03):\n",
    "        self.r_id = r_id\n",
    "        self.num_slots = num_slots\n",
    "        self.upper = upper\n",
    "        self.lower = lower\n",
    "        self.slots = []\n",
    "        self.slot_values = []\n",
    "        self._spawn()\n",
    "        self.current_bids = [0]*self.num_slots\n",
    "    def _spawn(self):\n",
    "        ctr_list = np.linspace(self.lower, self.upper, self.num_slots, endpoint=True)\n",
    "        for i in range(len(ctr_list)):\n",
    "            self.slots.append(ad(i, ctr_list[i]))\n",
    "    def allocate(self, player_list):\n",
    "        for player in player_list:\n",
    "             pass\n",
    "    def __str__(self):\n",
    "        return str(self.r_id)+\"|\"+str(self.num_slots)+\"|\"+str(self.upper - self.lower)"
   ]
  }
 ],
 "metadata": {
  "kernelspec": {
   "display_name": "Python 3",
   "language": "python",
   "name": "python3"
  },
  "language_info": {
   "codemirror_mode": {
    "name": "ipython",
    "version": 3
   },
   "file_extension": ".py",
   "mimetype": "text/x-python",
   "name": "python",
   "nbconvert_exporter": "python",
   "pygments_lexer": "ipython3",
   "version": "3.7.4"
  }
 },
 "nbformat": 4,
 "nbformat_minor": 2
}
