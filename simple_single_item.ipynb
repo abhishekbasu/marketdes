{
 "cells": [
  {
   "cell_type": "code",
   "execution_count": null,
   "metadata": {},
   "outputs": [],
   "source": [
    "import random\n",
    "import pandas as pd\n",
    "import matplotlib.pyplot as plt\n",
    "import numpy as np\n",
    "import seaborn as sns\n",
    "sns.set_style('whitegrid')\n",
    "%matplotlib inline"
   ]
  },
  {
   "cell_type": "code",
   "execution_count": null,
   "metadata": {},
   "outputs": [],
   "source": [
    "class player:\n",
    "    def __init__(self, p_id, valuation):\n",
    "        self.p_id = p_id\n",
    "        self.valuation = valuation\n",
    "        self.bid = np.round(random.choice(np.arange(0, self.valuation+0.01, 0.01)), 2)\n",
    "        self.win = False\n",
    "        self.price = self.valuation\n",
    "    def set_win(self, price):\n",
    "        if self.price > self.valuation:\n",
    "            print(\"error: utility cannot be negative\")\n",
    "        else:\n",
    "            self.win = True\n",
    "            self.price = price\n",
    "    def set_lose(self):\n",
    "        self.win = False\n",
    "        self.price = self.valuation\n",
    "    def utility(self):\n",
    "        return round(self.valuation - self.price, 2)\n",
    "    def __str__(self):\n",
    "        return str(self.p_id)+\"|\"+str(self.bid)+\"|\"+str(self.valuation)"
   ]
  },
  {
   "cell_type": "code",
   "execution_count": null,
   "metadata": {},
   "outputs": [],
   "source": [
    "class sba:\n",
    "    def __init__(self, a_id, player_list):\n",
    "        self.a_id = a_id\n",
    "        self.player_list = player_list\n",
    "    def bidding(self, method = \"highest\"):\n",
    "        if method == \"highest\":\n",
    "            highest_bid = 0\n",
    "            winner = None\n",
    "            for player in self.player_list:\n",
    "                player.set_lose()\n",
    "                if player.bid > highest_bid:\n",
    "                    winner = player\n",
    "                    highest_bid = player.bid\n",
    "            winner.set_win(highest_bid)\n",
    "        elif method == \"second\":\n",
    "            highest_bid = 0\n",
    "            second_highest_bid = 0\n",
    "            winner = None\n",
    "            for player in self.player_list:\n",
    "                player.set_lose()\n",
    "                if player.bid > highest_bid:\n",
    "                    if highest_bid != 0:\n",
    "                        second_highest_bid = highest_bid\n",
    "                    winner = player\n",
    "                    highest_bid = player.bid\n",
    "                elif player.bid > second_highest_bid:\n",
    "                    second_highest_bid = player.bid\n",
    "            winner.set_win(second_highest_bid)\n",
    "        else:\n",
    "            print(\"error: unknown method\")"
   ]
  },
  {
   "cell_type": "code",
   "execution_count": null,
   "metadata": {},
   "outputs": [],
   "source": [
    "player_list = [player(i, random.sample(range(1000), 1)[0]) for i in range(10)]"
   ]
  },
  {
   "cell_type": "code",
   "execution_count": null,
   "metadata": {},
   "outputs": [],
   "source": [
    "auc1 = sba(0, player_list)"
   ]
  },
  {
   "cell_type": "code",
   "execution_count": null,
   "metadata": {},
   "outputs": [],
   "source": [
    "auc1.bidding(\"second\")"
   ]
  },
  {
   "cell_type": "code",
   "execution_count": null,
   "metadata": {},
   "outputs": [],
   "source": [
    "for player in player_list:\n",
    "    if player.win:\n",
    "        print('*WIN', player.p_id, player.bid, player.price, player.utility())\n",
    "    else:\n",
    "        print('LOSS', player.p_id, player.bid)"
   ]
  }
 ],
 "metadata": {
  "kernelspec": {
   "display_name": "Python 3",
   "language": "python",
   "name": "python3"
  },
  "language_info": {
   "codemirror_mode": {
    "name": "ipython",
    "version": 3
   },
   "file_extension": ".py",
   "mimetype": "text/x-python",
   "name": "python",
   "nbconvert_exporter": "python",
   "pygments_lexer": "ipython3",
   "version": "3.7.4"
  }
 },
 "nbformat": 4,
 "nbformat_minor": 2
}
